{
 "cells": [
  {
   "cell_type": "code",
   "execution_count": 287,
   "metadata": {
    "collapsed": true
   },
   "outputs": [],
   "source": [
    "#### GET A SAMPLE BABY #####"
   ]
  },
  {
   "cell_type": "code",
   "execution_count": 288,
   "metadata": {
    "collapsed": true
   },
   "outputs": [],
   "source": [
    "import random\n",
    "import pandas\n",
    "import os"
   ]
  },
  {
   "cell_type": "code",
   "execution_count": 289,
   "metadata": {
    "collapsed": true
   },
   "outputs": [],
   "source": [
    "#### select your random seed #####\n",
    "#### \n",
    "#### Currently Running: 303 \n",
    "#### Have Run: 303, 404   "
   ]
  },
  {
   "cell_type": "code",
   "execution_count": 290,
   "metadata": {
    "collapsed": false,
    "scrolled": true
   },
   "outputs": [
    {
     "name": "stdout",
     "output_type": "stream",
     "text": [
      "Select your random seed: 303\n"
     ]
    }
   ],
   "source": [
    "seed = input(\"Select your random seed: \")"
   ]
  },
  {
   "cell_type": "code",
   "execution_count": 291,
   "metadata": {
    "collapsed": true
   },
   "outputs": [],
   "source": [
    "### read CSV and SAMPLE 400 ####"
   ]
  },
  {
   "cell_type": "code",
   "execution_count": 292,
   "metadata": {
    "collapsed": false
   },
   "outputs": [],
   "source": [
    "candidates = pandas.read_csv(os.path.join( os.getcwd(), \"../../csv\", \"candidate_set.csv\"))\n",
    "sample = candidates.sample(n=400, random_state=int(seed), replace=False)\n"
   ]
  },
  {
   "cell_type": "code",
   "execution_count": 293,
   "metadata": {
    "collapsed": false
   },
   "outputs": [],
   "source": [
    "### Segment Sample ###\n",
    "sample_1 = sample[:50]\n",
    "sample_2 = sample[50:100]\n",
    "sample_3 = sample[100:150]\n",
    "sample_4 = sample[150:200]\n",
    "\n",
    "sample_1.to_csv(\"../../csv/sample_label/sample_1.csv\")\n",
    "sample_2.to_csv(\"../../csv/sample_label/sample_2.csv\")\n",
    "sample_3.to_csv(\"../../csv/sample_label/sample_3.csv\")\n",
    "sample_4.to_csv(\"../../csv/sample_label/sample_4.csv\")"
   ]
  }
 ],
 "metadata": {
  "kernelspec": {
   "display_name": "Python 3",
   "language": "python",
   "name": "python3"
  },
  "language_info": {
   "codemirror_mode": {
    "name": "ipython",
    "version": 3
   },
   "file_extension": ".py",
   "mimetype": "text/x-python",
   "name": "python",
   "nbconvert_exporter": "python",
   "pygments_lexer": "ipython3",
   "version": "3.5.2"
  }
 },
 "nbformat": 4,
 "nbformat_minor": 1
}
