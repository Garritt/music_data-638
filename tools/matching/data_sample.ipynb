{
 "cells": [
  {
   "cell_type": "code",
   "execution_count": 22,
   "metadata": {
    "collapsed": true
   },
   "outputs": [],
   "source": [
    "#### GET A SAMPLE BABY #####"
   ]
  },
  {
   "cell_type": "code",
   "execution_count": 23,
   "metadata": {
    "collapsed": true
   },
   "outputs": [],
   "source": [
    "import random\n",
    "import pandas\n",
    "import os"
   ]
  },
  {
   "cell_type": "code",
   "execution_count": 24,
   "metadata": {
    "collapsed": true
   },
   "outputs": [],
   "source": [
    "#### select your random seed #####\n",
    "\n",
    "#### Currently Running: 303 \n",
    "#### Have Run: 303, 404 "
   ]
  },
  {
   "cell_type": "code",
   "execution_count": 25,
   "metadata": {
    "collapsed": false,
    "scrolled": true
   },
   "outputs": [
    {
     "name": "stdout",
     "output_type": "stream",
     "text": [
      "Select your random seed: 304\n"
     ]
    }
   ],
   "source": [
    "seed = input(\"Select your random seed: \")"
   ]
  },
  {
   "cell_type": "code",
   "execution_count": 26,
   "metadata": {
    "collapsed": true
   },
   "outputs": [],
   "source": [
    "### read CSV and SAMPLE 400 ####"
   ]
  },
  {
   "cell_type": "code",
   "execution_count": 27,
   "metadata": {
    "collapsed": false
   },
   "outputs": [],
   "source": [
    "candidates = pandas.read_csv(os.path.join( os.getcwd(), \"../../csv\", \"candidate_set.csv\"))\n",
    "sample = candidates.sample(n=400, random_state=int(seed), replace=False)\n"
   ]
  },
  {
   "cell_type": "code",
   "execution_count": 28,
   "metadata": {
    "collapsed": false
   },
   "outputs": [],
   "source": [
    "### Segment Sample ###\n",
    "sample_1 = sample[:50]\n",
    "sample_2 = sample[50:100]\n",
    "sample_3 = sample[100:150]\n",
    "sample_4 = sample[150:200]\n",
    "sample_5 = sample[200:250]\n",
    "sample_6 = sample[250:300]\n",
    "sample_7 = sample[300:350]\n",
    "sample_8 = sample[350:400]\n",
    "\n",
    "path = \"../../csv/sample_label/\"+seed+\"/\"\n",
    "if not os.path.exists(path):\n",
    "    os.makedirs(path)\n",
    "\n",
    "sample_1.to_csv(path+\"sample_1_\"+seed+\".csv\")\n",
    "sample_2.to_csv(path+\"sample_2_\"+seed+\".csv\")\n",
    "sample_3.to_csv(path+\"sample_3_\"+seed+\".csv\")\n",
    "sample_4.to_csv(path+\"sample_4_\"+seed+\".csv\")\n",
    "sample_5.to_csv(path+\"sample_5_\"+seed+\".csv\")\n",
    "sample_6.to_csv(path+\"sample_6_\"+seed+\".csv\")\n",
    "sample_7.to_csv(path+\"sample_7_\"+seed+\".csv\")\n",
    "sample_8.to_csv(path+\"sample_8_\"+seed+\".csv\")\n"
   ]
  }
 ],
 "metadata": {
  "kernelspec": {
   "display_name": "Python 3",
   "language": "python",
   "name": "python3"
  },
  "language_info": {
   "codemirror_mode": {
    "name": "ipython",
    "version": 3
   },
   "file_extension": ".py",
   "mimetype": "text/x-python",
   "name": "python",
   "nbconvert_exporter": "python",
   "pygments_lexer": "ipython3",
   "version": "3.5.2"
  }
 },
 "nbformat": 4,
 "nbformat_minor": 1
}
